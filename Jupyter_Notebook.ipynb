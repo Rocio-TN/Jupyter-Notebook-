{
  "nbformat": 4,
  "nbformat_minor": 0,
  "metadata": {
    "colab": {
      "provenance": []
    },
    "kernelspec": {
      "name": "python3",
      "display_name": "Python 3"
    },
    "language_info": {
      "name": "python"
    }
  },
  "cells": [
    {
      "cell_type": "markdown",
      "source": [
        "En este ejemplo, la clase CuentaBancaria tiene un método constructor que toma el nombre del titular y un saldo inicial (predeterminado a 0 si no se proporciona). También tiene métodos para realizar depósitos (depositar) y retiros (retirar). Además, hay un método (imprimir_informacion) que imprime información sobre la cuenta.\n",
        "\n",
        "La demostración de uso crea una instancia de la clase CuentaBancaria llamada cuenta1, muestra cómo acceder a sus atributos, realiza depósitos y retiros, y finalmente imprime información sobre la cuenta."
      ],
      "metadata": {
        "id": "tZ5Wr-pqtlUS"
      }
    },
    {
      "cell_type": "code",
      "execution_count": null,
      "metadata": {
        "colab": {
          "base_uri": "https://localhost:8080/"
        },
        "id": "zaNsHBm1tXU8",
        "outputId": "0edb139b-e66a-424c-8342-940044c2ab9a"
      },
      "outputs": [
        {
          "output_type": "stream",
          "name": "stdout",
          "text": [
            "Titular: Juan Pérez\n",
            "Depósito de 500 realizado. Nuevo saldo: 1500\n",
            "Retiro de 200 realizado. Nuevo saldo: 1300\n",
            "Cuenta de Juan Pérez\n",
            "Saldo actual: 1300\n"
          ]
        }
      ],
      "source": [
        "class CuentaBancaria:\n",
        "    # Método constructor\n",
        "    def __init__(self, titular, saldo_inicial=0):\n",
        "        self.titular = titular\n",
        "        self.saldo = saldo_inicial\n",
        "\n",
        "    # Método para realizar un depósito\n",
        "    def depositar(self, cantidad):\n",
        "        self.saldo += cantidad\n",
        "        print(f\"Depósito de {cantidad} realizado. Nuevo saldo: {self.saldo}\")\n",
        "\n",
        "    # Método para realizar un retiro\n",
        "    def retirar(self, cantidad):\n",
        "        if cantidad <= self.saldo:\n",
        "            self.saldo -= cantidad\n",
        "            print(f\"Retiro de {cantidad} realizado. Nuevo saldo: {self.saldo}\")\n",
        "        else:\n",
        "            print(\"Fondos insuficientes. No se puede realizar el retiro.\")\n",
        "\n",
        "    # Método para imprimir información sobre la cuenta\n",
        "    def imprimir_informacion(self):\n",
        "        print(f\"Cuenta de {self.titular}\")\n",
        "        print(f\"Saldo actual: {self.saldo}\")\n",
        "\n",
        "# Demostración de uso\n",
        "# Crear una instancia de la clase CuentaBancaria\n",
        "cuenta1 = CuentaBancaria(titular=\"Juan Pérez\", saldo_inicial=1000)\n",
        "\n",
        "# Acceder a atributos\n",
        "print(f\"Titular: {cuenta1.titular}\")\n",
        "\n",
        "# Realizar operaciones en la cuenta\n",
        "cuenta1.depositar(500)\n",
        "cuenta1.retirar(200)\n",
        "\n",
        "# Imprimir información sobre la cuenta\n",
        "cuenta1.imprimir_informacion()\n"
      ]
    }
  ]
}